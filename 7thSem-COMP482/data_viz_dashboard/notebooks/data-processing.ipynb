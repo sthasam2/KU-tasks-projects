{
 "cells": [
  {
   "cell_type": "markdown",
   "metadata": {},
   "source": [
    "# Data Pre-Processing\n",
    "\n",
    "Processing the raw data to make it ready for visualization"
   ]
  },
  {
   "cell_type": "code",
   "execution_count": 1,
   "metadata": {},
   "outputs": [],
   "source": [
    "import pandas as pd\n",
    "import numpy as np\n",
    "import matplotlib.pyplot as plt"
   ]
  },
  {
   "cell_type": "markdown",
   "metadata": {},
   "source": [
    "Importing libraries for exploring and processing the data\n",
    "- **pandas** for data manipulation\n",
    "- **numpy** for mathematical functionality\n",
    "- **matplotlib** for plots and visualization"
   ]
  },
  {
   "cell_type": "code",
   "execution_count": 2,
   "metadata": {},
   "outputs": [],
   "source": [
    "raw_data = pd.read_csv(\"../assets/new.csv\", encoding=\"gbk\", low_memory=False)"
   ]
  },
  {
   "cell_type": "markdown",
   "metadata": {},
   "source": [
    "Importing the csv file from the *assets* folder. The encoding is set to 'gbk' (*GBK is an extension of the GB 2312 character set for Simplified Chinese characters*) because of presenece of some chineses characters like in the floor column."
   ]
  },
  {
   "cell_type": "markdown",
   "metadata": {},
   "source": [
    "# Exploratory Data Analysis"
   ]
  },
  {
   "cell_type": "markdown",
   "metadata": {},
   "source": [
    "## Data observation and visualization"
   ]
  },
  {
   "cell_type": "code",
   "execution_count": 3,
   "metadata": {},
   "outputs": [
    {
     "data": {
      "text/html": [
       "<div>\n",
       "<style scoped>\n",
       "    .dataframe tbody tr th:only-of-type {\n",
       "        vertical-align: middle;\n",
       "    }\n",
       "\n",
       "    .dataframe tbody tr th {\n",
       "        vertical-align: top;\n",
       "    }\n",
       "\n",
       "    .dataframe thead th {\n",
       "        text-align: right;\n",
       "    }\n",
       "</style>\n",
       "<table border=\"1\" class=\"dataframe\">\n",
       "  <thead>\n",
       "    <tr style=\"text-align: right;\">\n",
       "      <th></th>\n",
       "      <th>url</th>\n",
       "      <th>id</th>\n",
       "      <th>Lng</th>\n",
       "      <th>Lat</th>\n",
       "      <th>Cid</th>\n",
       "      <th>tradeTime</th>\n",
       "      <th>DOM</th>\n",
       "      <th>followers</th>\n",
       "      <th>totalPrice</th>\n",
       "      <th>price</th>\n",
       "      <th>...</th>\n",
       "      <th>buildingType</th>\n",
       "      <th>constructionTime</th>\n",
       "      <th>renovationCondition</th>\n",
       "      <th>buildingStructure</th>\n",
       "      <th>ladderRatio</th>\n",
       "      <th>elevator</th>\n",
       "      <th>fiveYearsProperty</th>\n",
       "      <th>subway</th>\n",
       "      <th>district</th>\n",
       "      <th>communityAverage</th>\n",
       "    </tr>\n",
       "  </thead>\n",
       "  <tbody>\n",
       "    <tr>\n",
       "      <th>0</th>\n",
       "      <td>https://bj.lianjia.com/chengjiao/101084782030....</td>\n",
       "      <td>101084782030</td>\n",
       "      <td>116.475489</td>\n",
       "      <td>40.019520</td>\n",
       "      <td>1111027376244</td>\n",
       "      <td>2016-08-09</td>\n",
       "      <td>1464.0</td>\n",
       "      <td>106</td>\n",
       "      <td>415.0</td>\n",
       "      <td>31680</td>\n",
       "      <td>...</td>\n",
       "      <td>1.0</td>\n",
       "      <td>2005</td>\n",
       "      <td>3</td>\n",
       "      <td>6</td>\n",
       "      <td>0.217</td>\n",
       "      <td>1.0</td>\n",
       "      <td>0.0</td>\n",
       "      <td>1.0</td>\n",
       "      <td>7</td>\n",
       "      <td>56021.0</td>\n",
       "    </tr>\n",
       "    <tr>\n",
       "      <th>1</th>\n",
       "      <td>https://bj.lianjia.com/chengjiao/101086012217....</td>\n",
       "      <td>101086012217</td>\n",
       "      <td>116.453917</td>\n",
       "      <td>39.881534</td>\n",
       "      <td>1111027381879</td>\n",
       "      <td>2016-07-28</td>\n",
       "      <td>903.0</td>\n",
       "      <td>126</td>\n",
       "      <td>575.0</td>\n",
       "      <td>43436</td>\n",
       "      <td>...</td>\n",
       "      <td>1.0</td>\n",
       "      <td>2004</td>\n",
       "      <td>4</td>\n",
       "      <td>6</td>\n",
       "      <td>0.667</td>\n",
       "      <td>1.0</td>\n",
       "      <td>1.0</td>\n",
       "      <td>0.0</td>\n",
       "      <td>7</td>\n",
       "      <td>71539.0</td>\n",
       "    </tr>\n",
       "    <tr>\n",
       "      <th>2</th>\n",
       "      <td>https://bj.lianjia.com/chengjiao/101086041636....</td>\n",
       "      <td>101086041636</td>\n",
       "      <td>116.561978</td>\n",
       "      <td>39.877145</td>\n",
       "      <td>1111040862969</td>\n",
       "      <td>2016-12-11</td>\n",
       "      <td>1271.0</td>\n",
       "      <td>48</td>\n",
       "      <td>1030.0</td>\n",
       "      <td>52021</td>\n",
       "      <td>...</td>\n",
       "      <td>4.0</td>\n",
       "      <td>2005</td>\n",
       "      <td>3</td>\n",
       "      <td>6</td>\n",
       "      <td>0.500</td>\n",
       "      <td>1.0</td>\n",
       "      <td>0.0</td>\n",
       "      <td>0.0</td>\n",
       "      <td>7</td>\n",
       "      <td>48160.0</td>\n",
       "    </tr>\n",
       "    <tr>\n",
       "      <th>3</th>\n",
       "      <td>https://bj.lianjia.com/chengjiao/101086406841....</td>\n",
       "      <td>101086406841</td>\n",
       "      <td>116.438010</td>\n",
       "      <td>40.076114</td>\n",
       "      <td>1111043185817</td>\n",
       "      <td>2016-09-30</td>\n",
       "      <td>965.0</td>\n",
       "      <td>138</td>\n",
       "      <td>297.5</td>\n",
       "      <td>22202</td>\n",
       "      <td>...</td>\n",
       "      <td>1.0</td>\n",
       "      <td>2008</td>\n",
       "      <td>1</td>\n",
       "      <td>6</td>\n",
       "      <td>0.273</td>\n",
       "      <td>1.0</td>\n",
       "      <td>0.0</td>\n",
       "      <td>0.0</td>\n",
       "      <td>6</td>\n",
       "      <td>51238.0</td>\n",
       "    </tr>\n",
       "    <tr>\n",
       "      <th>4</th>\n",
       "      <td>https://bj.lianjia.com/chengjiao/101086920653....</td>\n",
       "      <td>101086920653</td>\n",
       "      <td>116.428392</td>\n",
       "      <td>39.886229</td>\n",
       "      <td>1111027381174</td>\n",
       "      <td>2016-08-28</td>\n",
       "      <td>927.0</td>\n",
       "      <td>286</td>\n",
       "      <td>392.0</td>\n",
       "      <td>48396</td>\n",
       "      <td>...</td>\n",
       "      <td>4.0</td>\n",
       "      <td>1960</td>\n",
       "      <td>2</td>\n",
       "      <td>2</td>\n",
       "      <td>0.333</td>\n",
       "      <td>0.0</td>\n",
       "      <td>1.0</td>\n",
       "      <td>1.0</td>\n",
       "      <td>1</td>\n",
       "      <td>62588.0</td>\n",
       "    </tr>\n",
       "  </tbody>\n",
       "</table>\n",
       "<p>5 rows × 26 columns</p>\n",
       "</div>"
      ],
      "text/plain": [
       "                                                 url            id  \\\n",
       "0  https://bj.lianjia.com/chengjiao/101084782030....  101084782030   \n",
       "1  https://bj.lianjia.com/chengjiao/101086012217....  101086012217   \n",
       "2  https://bj.lianjia.com/chengjiao/101086041636....  101086041636   \n",
       "3  https://bj.lianjia.com/chengjiao/101086406841....  101086406841   \n",
       "4  https://bj.lianjia.com/chengjiao/101086920653....  101086920653   \n",
       "\n",
       "          Lng        Lat            Cid   tradeTime     DOM  followers  \\\n",
       "0  116.475489  40.019520  1111027376244  2016-08-09  1464.0        106   \n",
       "1  116.453917  39.881534  1111027381879  2016-07-28   903.0        126   \n",
       "2  116.561978  39.877145  1111040862969  2016-12-11  1271.0         48   \n",
       "3  116.438010  40.076114  1111043185817  2016-09-30   965.0        138   \n",
       "4  116.428392  39.886229  1111027381174  2016-08-28   927.0        286   \n",
       "\n",
       "   totalPrice  price  ...  buildingType constructionTime renovationCondition  \\\n",
       "0       415.0  31680  ...           1.0             2005                   3   \n",
       "1       575.0  43436  ...           1.0             2004                   4   \n",
       "2      1030.0  52021  ...           4.0             2005                   3   \n",
       "3       297.5  22202  ...           1.0             2008                   1   \n",
       "4       392.0  48396  ...           4.0             1960                   2   \n",
       "\n",
       "   buildingStructure ladderRatio elevator  fiveYearsProperty subway  district  \\\n",
       "0                  6       0.217      1.0                0.0    1.0         7   \n",
       "1                  6       0.667      1.0                1.0    0.0         7   \n",
       "2                  6       0.500      1.0                0.0    0.0         7   \n",
       "3                  6       0.273      1.0                0.0    0.0         6   \n",
       "4                  2       0.333      0.0                1.0    1.0         1   \n",
       "\n",
       "   communityAverage  \n",
       "0           56021.0  \n",
       "1           71539.0  \n",
       "2           48160.0  \n",
       "3           51238.0  \n",
       "4           62588.0  \n",
       "\n",
       "[5 rows x 26 columns]"
      ]
     },
     "execution_count": 3,
     "metadata": {},
     "output_type": "execute_result"
    }
   ],
   "source": [
    "raw_data.head()"
   ]
  },
  {
   "cell_type": "markdown",
   "metadata": {},
   "source": [
    "Data consists of 26 colums: *url, id, Lng, Lat, Cid, tradeTime, DOM, followers, totalPrice, price, buildingType,* etc."
   ]
  },
  {
   "cell_type": "code",
   "execution_count": 4,
   "metadata": {},
   "outputs": [
    {
     "data": {
      "text/html": [
       "<div>\n",
       "<style scoped>\n",
       "    .dataframe tbody tr th:only-of-type {\n",
       "        vertical-align: middle;\n",
       "    }\n",
       "\n",
       "    .dataframe tbody tr th {\n",
       "        vertical-align: top;\n",
       "    }\n",
       "\n",
       "    .dataframe thead th {\n",
       "        text-align: right;\n",
       "    }\n",
       "</style>\n",
       "<table border=\"1\" class=\"dataframe\">\n",
       "  <thead>\n",
       "    <tr style=\"text-align: right;\">\n",
       "      <th></th>\n",
       "      <th>Lng</th>\n",
       "      <th>Lat</th>\n",
       "      <th>Cid</th>\n",
       "      <th>DOM</th>\n",
       "      <th>followers</th>\n",
       "      <th>totalPrice</th>\n",
       "      <th>price</th>\n",
       "      <th>square</th>\n",
       "      <th>kitchen</th>\n",
       "      <th>buildingType</th>\n",
       "      <th>renovationCondition</th>\n",
       "      <th>buildingStructure</th>\n",
       "      <th>ladderRatio</th>\n",
       "      <th>elevator</th>\n",
       "      <th>fiveYearsProperty</th>\n",
       "      <th>subway</th>\n",
       "      <th>district</th>\n",
       "      <th>communityAverage</th>\n",
       "    </tr>\n",
       "  </thead>\n",
       "  <tbody>\n",
       "    <tr>\n",
       "      <th>count</th>\n",
       "      <td>318851.000000</td>\n",
       "      <td>318851.000000</td>\n",
       "      <td>3.188510e+05</td>\n",
       "      <td>160874.000000</td>\n",
       "      <td>318851.000000</td>\n",
       "      <td>318851.000000</td>\n",
       "      <td>318851.000000</td>\n",
       "      <td>318851.000000</td>\n",
       "      <td>318851.000000</td>\n",
       "      <td>316830.000000</td>\n",
       "      <td>318851.000000</td>\n",
       "      <td>318851.000000</td>\n",
       "      <td>3.188510e+05</td>\n",
       "      <td>318819.000000</td>\n",
       "      <td>318819.000000</td>\n",
       "      <td>318819.000000</td>\n",
       "      <td>318851.000000</td>\n",
       "      <td>318388.000000</td>\n",
       "    </tr>\n",
       "    <tr>\n",
       "      <th>mean</th>\n",
       "      <td>116.418459</td>\n",
       "      <td>39.949591</td>\n",
       "      <td>1.129113e+12</td>\n",
       "      <td>28.822339</td>\n",
       "      <td>16.731508</td>\n",
       "      <td>349.030201</td>\n",
       "      <td>43530.436379</td>\n",
       "      <td>83.240597</td>\n",
       "      <td>0.994599</td>\n",
       "      <td>3.009790</td>\n",
       "      <td>2.606330</td>\n",
       "      <td>4.451026</td>\n",
       "      <td>6.316486e+01</td>\n",
       "      <td>0.577055</td>\n",
       "      <td>0.645601</td>\n",
       "      <td>0.601112</td>\n",
       "      <td>6.763564</td>\n",
       "      <td>63682.446305</td>\n",
       "    </tr>\n",
       "    <tr>\n",
       "      <th>std</th>\n",
       "      <td>0.112054</td>\n",
       "      <td>0.091983</td>\n",
       "      <td>2.363447e+12</td>\n",
       "      <td>50.237343</td>\n",
       "      <td>34.209185</td>\n",
       "      <td>230.780778</td>\n",
       "      <td>21709.024204</td>\n",
       "      <td>37.234661</td>\n",
       "      <td>0.109609</td>\n",
       "      <td>1.269857</td>\n",
       "      <td>1.311739</td>\n",
       "      <td>1.901753</td>\n",
       "      <td>2.506851e+04</td>\n",
       "      <td>0.494028</td>\n",
       "      <td>0.478331</td>\n",
       "      <td>0.489670</td>\n",
       "      <td>2.812616</td>\n",
       "      <td>22329.215447</td>\n",
       "    </tr>\n",
       "    <tr>\n",
       "      <th>min</th>\n",
       "      <td>116.072514</td>\n",
       "      <td>39.627030</td>\n",
       "      <td>1.111027e+12</td>\n",
       "      <td>1.000000</td>\n",
       "      <td>0.000000</td>\n",
       "      <td>0.100000</td>\n",
       "      <td>1.000000</td>\n",
       "      <td>6.900000</td>\n",
       "      <td>0.000000</td>\n",
       "      <td>0.048000</td>\n",
       "      <td>0.000000</td>\n",
       "      <td>0.000000</td>\n",
       "      <td>0.000000e+00</td>\n",
       "      <td>0.000000</td>\n",
       "      <td>0.000000</td>\n",
       "      <td>0.000000</td>\n",
       "      <td>1.000000</td>\n",
       "      <td>10847.000000</td>\n",
       "    </tr>\n",
       "    <tr>\n",
       "      <th>25%</th>\n",
       "      <td>116.344985</td>\n",
       "      <td>39.893200</td>\n",
       "      <td>1.111027e+12</td>\n",
       "      <td>1.000000</td>\n",
       "      <td>0.000000</td>\n",
       "      <td>205.000000</td>\n",
       "      <td>28050.000000</td>\n",
       "      <td>57.900000</td>\n",
       "      <td>1.000000</td>\n",
       "      <td>1.000000</td>\n",
       "      <td>1.000000</td>\n",
       "      <td>2.000000</td>\n",
       "      <td>2.500000e-01</td>\n",
       "      <td>0.000000</td>\n",
       "      <td>0.000000</td>\n",
       "      <td>0.000000</td>\n",
       "      <td>6.000000</td>\n",
       "      <td>46339.000000</td>\n",
       "    </tr>\n",
       "    <tr>\n",
       "      <th>50%</th>\n",
       "      <td>116.416780</td>\n",
       "      <td>39.934527</td>\n",
       "      <td>1.111027e+12</td>\n",
       "      <td>6.000000</td>\n",
       "      <td>5.000000</td>\n",
       "      <td>294.000000</td>\n",
       "      <td>38737.000000</td>\n",
       "      <td>74.260000</td>\n",
       "      <td>1.000000</td>\n",
       "      <td>4.000000</td>\n",
       "      <td>3.000000</td>\n",
       "      <td>6.000000</td>\n",
       "      <td>3.330000e-01</td>\n",
       "      <td>1.000000</td>\n",
       "      <td>1.000000</td>\n",
       "      <td>1.000000</td>\n",
       "      <td>7.000000</td>\n",
       "      <td>59015.000000</td>\n",
       "    </tr>\n",
       "    <tr>\n",
       "      <th>75%</th>\n",
       "      <td>116.477581</td>\n",
       "      <td>40.003018</td>\n",
       "      <td>1.111027e+12</td>\n",
       "      <td>37.000000</td>\n",
       "      <td>18.000000</td>\n",
       "      <td>425.500000</td>\n",
       "      <td>53819.500000</td>\n",
       "      <td>98.710000</td>\n",
       "      <td>1.000000</td>\n",
       "      <td>4.000000</td>\n",
       "      <td>4.000000</td>\n",
       "      <td>6.000000</td>\n",
       "      <td>5.000000e-01</td>\n",
       "      <td>1.000000</td>\n",
       "      <td>1.000000</td>\n",
       "      <td>1.000000</td>\n",
       "      <td>8.000000</td>\n",
       "      <td>75950.000000</td>\n",
       "    </tr>\n",
       "    <tr>\n",
       "      <th>max</th>\n",
       "      <td>116.732378</td>\n",
       "      <td>40.252758</td>\n",
       "      <td>1.114620e+15</td>\n",
       "      <td>1677.000000</td>\n",
       "      <td>1143.000000</td>\n",
       "      <td>18130.000000</td>\n",
       "      <td>156250.000000</td>\n",
       "      <td>1745.500000</td>\n",
       "      <td>4.000000</td>\n",
       "      <td>4.000000</td>\n",
       "      <td>4.000000</td>\n",
       "      <td>6.000000</td>\n",
       "      <td>1.000940e+07</td>\n",
       "      <td>1.000000</td>\n",
       "      <td>1.000000</td>\n",
       "      <td>1.000000</td>\n",
       "      <td>13.000000</td>\n",
       "      <td>183109.000000</td>\n",
       "    </tr>\n",
       "  </tbody>\n",
       "</table>\n",
       "</div>"
      ],
      "text/plain": [
       "                 Lng            Lat           Cid            DOM  \\\n",
       "count  318851.000000  318851.000000  3.188510e+05  160874.000000   \n",
       "mean      116.418459      39.949591  1.129113e+12      28.822339   \n",
       "std         0.112054       0.091983  2.363447e+12      50.237343   \n",
       "min       116.072514      39.627030  1.111027e+12       1.000000   \n",
       "25%       116.344985      39.893200  1.111027e+12       1.000000   \n",
       "50%       116.416780      39.934527  1.111027e+12       6.000000   \n",
       "75%       116.477581      40.003018  1.111027e+12      37.000000   \n",
       "max       116.732378      40.252758  1.114620e+15    1677.000000   \n",
       "\n",
       "           followers     totalPrice          price         square  \\\n",
       "count  318851.000000  318851.000000  318851.000000  318851.000000   \n",
       "mean       16.731508     349.030201   43530.436379      83.240597   \n",
       "std        34.209185     230.780778   21709.024204      37.234661   \n",
       "min         0.000000       0.100000       1.000000       6.900000   \n",
       "25%         0.000000     205.000000   28050.000000      57.900000   \n",
       "50%         5.000000     294.000000   38737.000000      74.260000   \n",
       "75%        18.000000     425.500000   53819.500000      98.710000   \n",
       "max      1143.000000   18130.000000  156250.000000    1745.500000   \n",
       "\n",
       "             kitchen   buildingType  renovationCondition  buildingStructure  \\\n",
       "count  318851.000000  316830.000000        318851.000000      318851.000000   \n",
       "mean        0.994599       3.009790             2.606330           4.451026   \n",
       "std         0.109609       1.269857             1.311739           1.901753   \n",
       "min         0.000000       0.048000             0.000000           0.000000   \n",
       "25%         1.000000       1.000000             1.000000           2.000000   \n",
       "50%         1.000000       4.000000             3.000000           6.000000   \n",
       "75%         1.000000       4.000000             4.000000           6.000000   \n",
       "max         4.000000       4.000000             4.000000           6.000000   \n",
       "\n",
       "        ladderRatio       elevator  fiveYearsProperty         subway  \\\n",
       "count  3.188510e+05  318819.000000      318819.000000  318819.000000   \n",
       "mean   6.316486e+01       0.577055           0.645601       0.601112   \n",
       "std    2.506851e+04       0.494028           0.478331       0.489670   \n",
       "min    0.000000e+00       0.000000           0.000000       0.000000   \n",
       "25%    2.500000e-01       0.000000           0.000000       0.000000   \n",
       "50%    3.330000e-01       1.000000           1.000000       1.000000   \n",
       "75%    5.000000e-01       1.000000           1.000000       1.000000   \n",
       "max    1.000940e+07       1.000000           1.000000       1.000000   \n",
       "\n",
       "            district  communityAverage  \n",
       "count  318851.000000     318388.000000  \n",
       "mean        6.763564      63682.446305  \n",
       "std         2.812616      22329.215447  \n",
       "min         1.000000      10847.000000  \n",
       "25%         6.000000      46339.000000  \n",
       "50%         7.000000      59015.000000  \n",
       "75%         8.000000      75950.000000  \n",
       "max        13.000000     183109.000000  "
      ]
     },
     "execution_count": 4,
     "metadata": {},
     "output_type": "execute_result"
    }
   ],
   "source": [
    "raw_data.describe()"
   ]
  },
  {
   "cell_type": "markdown",
   "metadata": {},
   "source": [
    "- **count**: Count number of non-NA/null observations.\n",
    "- **max**: Maximum of the values in the object.\n",
    "- **min**: Minimum of the values in the object.\n",
    "- **mean**: Mean of the values.\n",
    "- **std**: Standard deviation of the observations.\n",
    "- the lower percentile is **25** and the upper percentile is **75**. The **50** percentile is the same as the median."
   ]
  },
  {
   "cell_type": "code",
   "execution_count": 5,
   "metadata": {},
   "outputs": [
    {
     "name": "stdout",
     "output_type": "stream",
     "text": [
      "<class 'pandas.core.frame.DataFrame'>\n",
      "RangeIndex: 318851 entries, 0 to 318850\n",
      "Data columns (total 26 columns):\n",
      " #   Column               Non-Null Count   Dtype  \n",
      "---  ------               --------------   -----  \n",
      " 0   url                  318851 non-null  object \n",
      " 1   id                   318851 non-null  object \n",
      " 2   Lng                  318851 non-null  float64\n",
      " 3   Lat                  318851 non-null  float64\n",
      " 4   Cid                  318851 non-null  int64  \n",
      " 5   tradeTime            318851 non-null  object \n",
      " 6   DOM                  160874 non-null  float64\n",
      " 7   followers            318851 non-null  int64  \n",
      " 8   totalPrice           318851 non-null  float64\n",
      " 9   price                318851 non-null  int64  \n",
      " 10  square               318851 non-null  float64\n",
      " 11  livingRoom           318851 non-null  object \n",
      " 12  drawingRoom          318851 non-null  object \n",
      " 13  kitchen              318851 non-null  int64  \n",
      " 14  bathRoom             318851 non-null  object \n",
      " 15  floor                318851 non-null  object \n",
      " 16  buildingType         316830 non-null  float64\n",
      " 17  constructionTime     318851 non-null  object \n",
      " 18  renovationCondition  318851 non-null  int64  \n",
      " 19  buildingStructure    318851 non-null  int64  \n",
      " 20  ladderRatio          318851 non-null  float64\n",
      " 21  elevator             318819 non-null  float64\n",
      " 22  fiveYearsProperty    318819 non-null  float64\n",
      " 23  subway               318819 non-null  float64\n",
      " 24  district             318851 non-null  int64  \n",
      " 25  communityAverage     318388 non-null  float64\n",
      "dtypes: float64(11), int64(7), object(8)\n",
      "memory usage: 63.2+ MB\n"
     ]
    }
   ],
   "source": [
    "raw_data.info()"
   ]
  },
  {
   "cell_type": "code",
   "execution_count": 6,
   "metadata": {},
   "outputs": [
    {
     "data": {
      "text/plain": [
       "url                    318851\n",
       "id                     318851\n",
       "Lng                      3995\n",
       "Lat                      3993\n",
       "Cid                      4035\n",
       "tradeTime                2560\n",
       "DOM                       551\n",
       "followers                 547\n",
       "totalPrice               5780\n",
       "price                   80042\n",
       "square                  18298\n",
       "livingRoom                 11\n",
       "drawingRoom                22\n",
       "kitchen                     5\n",
       "bathRoom                   18\n",
       "floor                     203\n",
       "buildingType               12\n",
       "constructionTime           74\n",
       "renovationCondition         5\n",
       "buildingStructure           7\n",
       "ladderRatio               183\n",
       "elevator                    2\n",
       "fiveYearsProperty           2\n",
       "subway                      2\n",
       "district                   13\n",
       "communityAverage         4072\n",
       "dtype: int64"
      ]
     },
     "execution_count": 6,
     "metadata": {},
     "output_type": "execute_result"
    }
   ],
   "source": [
    "raw_data.nunique()"
   ]
  },
  {
   "cell_type": "markdown",
   "metadata": {},
   "source": [
    "### Visualize Numerical data"
   ]
  },
  {
   "cell_type": "code",
   "execution_count": 7,
   "metadata": {},
   "outputs": [],
   "source": [
    "import math\n",
    "\n",
    "def viz_numerical_data(data, type):\n",
    "    num_data_cols = data.describe().columns  # get columns\n",
    "    num_of_cols = 6  # limit columns in final figure\n",
    "    num_of_rows = int(math.ceil(num_data_cols.size / num_of_cols))\n",
    "    fig, axs = plt.subplots(\n",
    "        num_of_rows, num_of_cols, figsize=(num_of_cols * 5, num_of_rows * 5)\n",
    "    )\n",
    "    fig_row = -1\n",
    "\n",
    "    for i, col in enumerate(num_data_cols):\n",
    "        if i % num_of_rows == 0:\n",
    "            fig_row += 1\n",
    "\n",
    "        if type == \"hist\":\n",
    "            axs[i % num_of_rows, fig_row].hist(data[col])\n",
    "\n",
    "        axs[i % num_of_rows, fig_row].title.set_text(col)\n"
   ]
  },
  {
   "cell_type": "code",
   "execution_count": 8,
   "metadata": {},
   "outputs": [
    {
     "data": {
      "image/png": "[encoded data removed]",
      "text/plain": [
       "<Figure size 2160x1080 with 18 Axes>"
      ]
     },
     "metadata": {
      "needs_background": "light"
     },
     "output_type": "display_data"
    }
   ],
   "source": [
    "viz_numerical_data(raw_data, \"hist\")"
   ]
  },
  {
   "cell_type": "markdown",
   "metadata": {},
   "source": [
    "We visualize the numeric data of all possible columns to get a rough idea on their features and distribution."
   ]
  },
  {
   "cell_type": "markdown",
   "metadata": {},
   "source": [
    "##  Missing Values Appraisal\n",
    "\n",
    "We check for null values in the data frame and calculate them inorder to improve the quality of data later on."
   ]
  },
  {
   "cell_type": "code",
   "execution_count": 9,
   "metadata": {},
   "outputs": [
    {
     "data": {
      "text/plain": [
       "url                         0\n",
       "id                          0\n",
       "Lng                         0\n",
       "Lat                         0\n",
       "Cid                         0\n",
       "tradeTime                   0\n",
       "DOM                    157977\n",
       "followers                   0\n",
       "totalPrice                  0\n",
       "price                       0\n",
       "square                      0\n",
       "livingRoom                  0\n",
       "drawingRoom                 0\n",
       "kitchen                     0\n",
       "bathRoom                    0\n",
       "floor                       0\n",
       "buildingType             2021\n",
       "constructionTime            0\n",
       "renovationCondition         0\n",
       "buildingStructure           0\n",
       "ladderRatio                 0\n",
       "elevator                   32\n",
       "fiveYearsProperty          32\n",
       "subway                     32\n",
       "district                    0\n",
       "communityAverage          463\n",
       "dtype: int64"
      ]
     },
     "execution_count": 9,
     "metadata": {},
     "output_type": "execute_result"
    }
   ],
   "source": [
    "raw_data.isnull().sum()"
   ]
  },
  {
   "cell_type": "markdown",
   "metadata": {},
   "source": [
    "We can see null values in some of the columns: *DOM, buildingType, elevator, fiveYearsProperty, subway, communityAverage*"
   ]
  },
  {
   "cell_type": "markdown",
   "metadata": {},
   "source": [
    "# Cleaning Data"
   ]
  },
  {
   "cell_type": "markdown",
   "metadata": {
    "tags": []
   },
   "source": [
    "### Separating some data into atomic units.  \n",
    "Eg, tradeTime to tradeDay, tradeMonth, tradeYear"
   ]
  },
  {
   "cell_type": "code",
   "execution_count": 10,
   "metadata": {
    "tags": []
   },
   "outputs": [],
   "source": [
    "year_list, month_list, day_list = list(), list(), list()\n",
    "\n",
    "for string in raw_data[\"tradeTime\"]:\n",
    "    year_list.append(string[0:4])\n",
    "    month_list.append(string[5:7])\n",
    "    day_list.append(string[8:10])\n",
    "\n",
    "raw_data[\"tradeYear\"] = year_list\n",
    "raw_data[\"tradeMonth\"] = month_list\n",
    "raw_data[\"tradeDay\"] = day_list\n",
    "\n",
    "raw_data = raw_data.astype(\n",
    "    {\n",
    "        \"tradeYear\": \"int64\",\n",
    "        \"tradeMonth\": \"int64\",\n",
    "        \"tradeDay\": \"int64\",\n",
    "    }\n",
    ")\n"
   ]
  },
  {
   "cell_type": "markdown",
   "metadata": {},
   "source": [
    "### Removing Data\n",
    "\n",
    "We remove some features which are used for uniquely identifying the particular rows of data like *url, id* as well as *floor* which has chinese characters we dont recognize."
   ]
  },
  {
   "cell_type": "code",
   "execution_count": 11,
   "metadata": {},
   "outputs": [],
   "source": [
    "raw_data.drop([\"url\", \"id\", \"floor\"], axis=1, inplace=True)"
   ]
  },
  {
   "cell_type": "markdown",
   "metadata": {},
   "source": [
    "### Filling Missing Data and Noise\n",
    "\n",
    "#### 1. **Active Days on Market (DOM)**  \n",
    "This data show the number of days active on the market i.e. time period before being de-enlisted as available for sale. So, inorder to fill this we can use correlation. We find other features in the dataset that correlate with given feature.\n",
    "\n",
    "*Note: We use values from **spearman correration** on ordinal types of data meanwhile **pearson** on the numeric ones that have continuous range.*"
   ]
  },
  {
   "cell_type": "code",
   "execution_count": 12,
   "metadata": {},
   "outputs": [],
   "source": [
    "def find_correlation(column):\n",
    "    ordinal = [\n",
    "        \"buildingType\",\n",
    "        \"renovationCondition\",\n",
    "        \"buildingStructure\",\n",
    "        \"elevator\",\n",
    "        \"fiveYearsProperty\",\n",
    "        \"district\",\n",
    "        \"Cid\", \n",
    "        \"subway\",\n",
    "    ]\n",
    "    continuous = [item for item in raw_data.describe().columns if item not in ordinal]\n",
    "\n",
    "    corr = pd.DataFrame()\n",
    "    for data in ordinal:\n",
    "        corr[data] = [raw_data[column].corr(raw_data[data], method=\"spearman\")]\n",
    "    for data in continuous:\n",
    "        corr[data] = [raw_data[column].corr(raw_data[data], method=\"pearson\")]\n",
    "\n",
    "    return corr\n"
   ]
  },
  {
   "cell_type": "code",
   "execution_count": 13,
   "metadata": {},
   "outputs": [
    {
     "data": {
      "text/html": [
       "<div>\n",
       "<style scoped>\n",
       "    .dataframe tbody tr th:only-of-type {\n",
       "        vertical-align: middle;\n",
       "    }\n",
       "\n",
       "    .dataframe tbody tr th {\n",
       "        vertical-align: top;\n",
       "    }\n",
       "\n",
       "    .dataframe thead th {\n",
       "        text-align: right;\n",
       "    }\n",
       "</style>\n",
       "<table border=\"1\" class=\"dataframe\">\n",
       "  <thead>\n",
       "    <tr style=\"text-align: right;\">\n",
       "      <th></th>\n",
       "      <th>buildingType</th>\n",
       "      <th>renovationCondition</th>\n",
       "      <th>buildingStructure</th>\n",
       "      <th>elevator</th>\n",
       "      <th>fiveYearsProperty</th>\n",
       "      <th>district</th>\n",
       "      <th>Cid</th>\n",
       "      <th>subway</th>\n",
       "      <th>Lng</th>\n",
       "      <th>Lat</th>\n",
       "      <th>...</th>\n",
       "      <th>followers</th>\n",
       "      <th>totalPrice</th>\n",
       "      <th>price</th>\n",
       "      <th>square</th>\n",
       "      <th>kitchen</th>\n",
       "      <th>ladderRatio</th>\n",
       "      <th>communityAverage</th>\n",
       "      <th>tradeYear</th>\n",
       "      <th>tradeMonth</th>\n",
       "      <th>tradeDay</th>\n",
       "    </tr>\n",
       "  </thead>\n",
       "  <tbody>\n",
       "    <tr>\n",
       "      <th>0</th>\n",
       "      <td>0.001162</td>\n",
       "      <td>0.207898</td>\n",
       "      <td>0.01456</td>\n",
       "      <td>0.011874</td>\n",
       "      <td>-0.117347</td>\n",
       "      <td>-0.024562</td>\n",
       "      <td>0.019687</td>\n",
       "      <td>0.002151</td>\n",
       "      <td>-0.014274</td>\n",
       "      <td>0.022363</td>\n",
       "      <td>...</td>\n",
       "      <td>0.465489</td>\n",
       "      <td>0.225404</td>\n",
       "      <td>0.215473</td>\n",
       "      <td>0.080909</td>\n",
       "      <td>0.010662</td>\n",
       "      <td>-0.001083</td>\n",
       "      <td>0.026475</td>\n",
       "      <td>0.334188</td>\n",
       "      <td>0.106142</td>\n",
       "      <td>0.021349</td>\n",
       "    </tr>\n",
       "  </tbody>\n",
       "</table>\n",
       "<p>1 rows × 21 columns</p>\n",
       "</div>"
      ],
      "text/plain": [
       "   buildingType  renovationCondition  buildingStructure  elevator  \\\n",
       "0      0.001162             0.207898            0.01456  0.011874   \n",
       "\n",
       "   fiveYearsProperty  district       Cid    subway       Lng       Lat  ...  \\\n",
       "0          -0.117347 -0.024562  0.019687  0.002151 -0.014274  0.022363  ...   \n",
       "\n",
       "   followers  totalPrice     price    square   kitchen  ladderRatio  \\\n",
       "0   0.465489    0.225404  0.215473  0.080909  0.010662    -0.001083   \n",
       "\n",
       "   communityAverage  tradeYear  tradeMonth  tradeDay  \n",
       "0          0.026475   0.334188    0.106142  0.021349  \n",
       "\n",
       "[1 rows x 21 columns]"
      ]
     },
     "execution_count": 13,
     "metadata": {},
     "output_type": "execute_result"
    }
   ],
   "source": [
    "dom_corr = find_correlation(\"DOM\")\n",
    "dom_corr\n"
   ]
  },
  {
   "cell_type": "markdown",
   "metadata": {},
   "source": [
    "We can see from the correlation table that the correlations for \"DOM\" are high with *followers(0.465489), tradeYear(0.3341881356)*\n",
    "\n",
    "Then we value the missing values in **“DOM”** by *calculating the average* of those data that have the same value in all characteristics of *\"tradeYear\", \"follow_type\"* as them. Since *“followers”* is a numeric variable, it is not convenient for grouping, so we convert it into a character variable – “follow_type” which is done by binning the followers to a group as *[-1, 0, 5, 10, 20, 50, 9999]*."
   ]
  },
  {
   "cell_type": "code",
   "execution_count": 14,
   "metadata": {},
   "outputs": [],
   "source": [
    "bins = [-1, 0, 5, 10, 20, 50, 9999]\n",
    "raw_data['follow_type'], b = pd.cut(x=raw_data['followers'],bins=bins,right=True,retbins=True)\n",
    "raw_data['follow_type']\n",
    "\n",
    "# Group by categories, find mean and add values\n",
    "raw_data['DOM'].fillna(raw_data.groupby([ 'tradeYear', 'follow_type'])['DOM'].transform('mean'), inplace=True)\n",
    "raw_data['DOM'].fillna(raw_data['DOM'].mean(), inplace=True)\n",
    "\n",
    "raw_data.drop('follow_type', axis=1, inplace=True)"
   ]
  },
  {
   "cell_type": "markdown",
   "metadata": {},
   "source": [
    "Now after filling values for DOM, lets check the null values again"
   ]
  },
  {
   "cell_type": "code",
   "execution_count": 15,
   "metadata": {},
   "outputs": [
    {
     "data": {
      "text/plain": [
       "0"
      ]
     },
     "execution_count": 15,
     "metadata": {},
     "output_type": "execute_result"
    }
   ],
   "source": [
    "raw_data[\"DOM\"].isnull().sum()"
   ]
  },
  {
   "cell_type": "markdown",
   "metadata": {},
   "source": [
    "We get **0** null values for \"**DOM**\""
   ]
  },
  {
   "cell_type": "markdown",
   "metadata": {},
   "source": [
    "#### 2. buildindType, elevator, fiveYearsProperty, subway"
   ]
  },
  {
   "cell_type": "markdown",
   "metadata": {},
   "source": [
    "The features *\"buildingType\", \"elevator\", \"fiveYearsProperty\",* and *\"subway\"* are character variables that cannot be calculated, so we fill in these missing values with the **mode** of the other values in the same feature."
   ]
  },
  {
   "cell_type": "code",
   "execution_count": 16,
   "metadata": {},
   "outputs": [],
   "source": [
    "# Since some builddingType values contain chinese characters or decimals cleaning those\n",
    "\n",
    "type_list = []\n",
    "for type in raw_data[\"buildingType\"]:\n",
    "    if type not in [1, 3, 2, 4]:\n",
    "        type = np.nan\n",
    "    type_list.append(type)\n",
    "raw_data[\"buildingType\"] = type_list\n"
   ]
  },
  {
   "cell_type": "code",
   "execution_count": 17,
   "metadata": {},
   "outputs": [],
   "source": [
    "# filling missing values with mode of that column\n",
    "raw_data['buildingType'].fillna(raw_data['buildingType'].mode()[0], inplace=True)\n",
    "raw_data['elevator'].fillna(raw_data['elevator'].mode()[0], inplace=True)\n",
    "raw_data['fiveYearsProperty'].fillna(raw_data['fiveYearsProperty'].mode()[0], inplace=True)\n",
    "raw_data['subway'].fillna(raw_data['subway'].mode()[0], inplace=True)"
   ]
  },
  {
   "cell_type": "markdown",
   "metadata": {},
   "source": [
    "Check for null values for these categories"
   ]
  },
  {
   "cell_type": "code",
   "execution_count": 18,
   "metadata": {},
   "outputs": [
    {
     "data": {
      "text/plain": [
       "buildingType         0\n",
       "elevator             0\n",
       "fiveYearsProperty    0\n",
       "subway               0\n",
       "dtype: int64"
      ]
     },
     "execution_count": 18,
     "metadata": {},
     "output_type": "execute_result"
    }
   ],
   "source": [
    "raw_data[[\"buildingType\", \"elevator\", \"fiveYearsProperty\", \"subway\"]].isnull().sum()\n"
   ]
  },
  {
   "cell_type": "markdown",
   "metadata": {},
   "source": [
    "We have **0** null values."
   ]
  },
  {
   "cell_type": "markdown",
   "metadata": {},
   "source": [
    "#### 3. Community Average\n"
   ]
  },
  {
   "cell_type": "code",
   "execution_count": 19,
   "metadata": {},
   "outputs": [
    {
     "data": {
      "text/html": [
       "<div>\n",
       "<style scoped>\n",
       "    .dataframe tbody tr th:only-of-type {\n",
       "        vertical-align: middle;\n",
       "    }\n",
       "\n",
       "    .dataframe tbody tr th {\n",
       "        vertical-align: top;\n",
       "    }\n",
       "\n",
       "    .dataframe thead th {\n",
       "        text-align: right;\n",
       "    }\n",
       "</style>\n",
       "<table border=\"1\" class=\"dataframe\">\n",
       "  <thead>\n",
       "    <tr style=\"text-align: right;\">\n",
       "      <th></th>\n",
       "      <th>buildingType</th>\n",
       "      <th>renovationCondition</th>\n",
       "      <th>buildingStructure</th>\n",
       "      <th>elevator</th>\n",
       "      <th>fiveYearsProperty</th>\n",
       "      <th>district</th>\n",
       "      <th>Cid</th>\n",
       "      <th>subway</th>\n",
       "      <th>Lng</th>\n",
       "      <th>Lat</th>\n",
       "      <th>...</th>\n",
       "      <th>followers</th>\n",
       "      <th>totalPrice</th>\n",
       "      <th>price</th>\n",
       "      <th>square</th>\n",
       "      <th>kitchen</th>\n",
       "      <th>ladderRatio</th>\n",
       "      <th>communityAverage</th>\n",
       "      <th>tradeYear</th>\n",
       "      <th>tradeMonth</th>\n",
       "      <th>tradeDay</th>\n",
       "    </tr>\n",
       "  </thead>\n",
       "  <tbody>\n",
       "    <tr>\n",
       "      <th>0</th>\n",
       "      <td>-0.164266</td>\n",
       "      <td>0.014747</td>\n",
       "      <td>0.148444</td>\n",
       "      <td>0.151422</td>\n",
       "      <td>0.074714</td>\n",
       "      <td>0.208387</td>\n",
       "      <td>-0.071147</td>\n",
       "      <td>0.354928</td>\n",
       "      <td>-0.175197</td>\n",
       "      <td>-0.068064</td>\n",
       "      <td>...</td>\n",
       "      <td>-0.012286</td>\n",
       "      <td>0.421428</td>\n",
       "      <td>0.683768</td>\n",
       "      <td>-0.146136</td>\n",
       "      <td>0.024271</td>\n",
       "      <td>-0.00092</td>\n",
       "      <td>1.0</td>\n",
       "      <td>-0.01617</td>\n",
       "      <td>0.013701</td>\n",
       "      <td>0.007198</td>\n",
       "    </tr>\n",
       "  </tbody>\n",
       "</table>\n",
       "<p>1 rows × 21 columns</p>\n",
       "</div>"
      ],
      "text/plain": [
       "   buildingType  renovationCondition  buildingStructure  elevator  \\\n",
       "0     -0.164266             0.014747           0.148444  0.151422   \n",
       "\n",
       "   fiveYearsProperty  district       Cid    subway       Lng       Lat  ...  \\\n",
       "0           0.074714  0.208387 -0.071147  0.354928 -0.175197 -0.068064  ...   \n",
       "\n",
       "   followers  totalPrice     price    square   kitchen  ladderRatio  \\\n",
       "0  -0.012286    0.421428  0.683768 -0.146136  0.024271     -0.00092   \n",
       "\n",
       "   communityAverage  tradeYear  tradeMonth  tradeDay  \n",
       "0               1.0   -0.01617    0.013701  0.007198  \n",
       "\n",
       "[1 rows x 21 columns]"
      ]
     },
     "execution_count": 19,
     "metadata": {},
     "output_type": "execute_result"
    }
   ],
   "source": [
    "commavg_corr = find_correlation(\"communityAverage\")\n",
    "commavg_corr"
   ]
  },
  {
   "cell_type": "markdown",
   "metadata": {},
   "source": [
    "Since communityAverage should depend on the given community ie *Cid*, calculating the average of those data that have the same value in *“Cid”*. If *Cid* cannot be found, we will fallback to *district* which is a degree higher in terms of location. We can see the correlation is highly with *district, totalPrice, price* . However, we will **not use** *totalPrice or price* since they are more generalized."
   ]
  },
  {
   "cell_type": "code",
   "execution_count": 20,
   "metadata": {},
   "outputs": [],
   "source": [
    "raw_data['communityAverage'].fillna(raw_data.groupby([\"Cid\"])['communityAverage'].transform('mean'), inplace=True)\n",
    "raw_data['communityAverage'].fillna(raw_data.groupby([\"district\"])['communityAverage'].transform('mean'), inplace=True)"
   ]
  },
  {
   "cell_type": "markdown",
   "metadata": {},
   "source": [
    "Checking **communityAverage** for null,"
   ]
  },
  {
   "cell_type": "code",
   "execution_count": 21,
   "metadata": {},
   "outputs": [
    {
     "data": {
      "text/plain": [
       "0"
      ]
     },
     "execution_count": 21,
     "metadata": {},
     "output_type": "execute_result"
    }
   ],
   "source": [
    "raw_data[\"communityAverage\"].isnull().sum()"
   ]
  },
  {
   "cell_type": "markdown",
   "metadata": {},
   "source": [
    "We again get **0** null."
   ]
  },
  {
   "cell_type": "markdown",
   "metadata": {},
   "source": [
    "#### 4. constructionTime, livingRoom\n",
    "\n",
    "Some of the records for *constructionTime, livingRoom* consists of noise like *0,1* and *#NAME?* respectively.  \n",
    "We identify these data and drop these rows containing them completely to remove noise.\n"
   ]
  },
  {
   "cell_type": "code",
   "execution_count": 22,
   "metadata": {},
   "outputs": [],
   "source": [
    "# Clean constructionTime\n",
    "construction_drop = raw_data.index[raw_data['constructionTime']=='未知'].tolist()\n",
    "raw_data.drop(index=construction_drop, inplace=True)\n",
    "# Clean livingRoom\n",
    "construction_drop = raw_data.index[raw_data['livingRoom']=='#NAME?'].tolist()\n",
    "raw_data.drop(index=construction_drop, inplace=True)"
   ]
  },
  {
   "cell_type": "markdown",
   "metadata": {},
   "source": [
    "Check for null values in entire dataframe"
   ]
  },
  {
   "cell_type": "code",
   "execution_count": 23,
   "metadata": {},
   "outputs": [
    {
     "data": {
      "text/plain": [
       "Lng                    0\n",
       "Lat                    0\n",
       "Cid                    0\n",
       "tradeTime              0\n",
       "DOM                    0\n",
       "followers              0\n",
       "totalPrice             0\n",
       "price                  0\n",
       "square                 0\n",
       "livingRoom             0\n",
       "drawingRoom            0\n",
       "kitchen                0\n",
       "bathRoom               0\n",
       "buildingType           0\n",
       "constructionTime       0\n",
       "renovationCondition    0\n",
       "buildingStructure      0\n",
       "ladderRatio            0\n",
       "elevator               0\n",
       "fiveYearsProperty      0\n",
       "subway                 0\n",
       "district               0\n",
       "communityAverage       0\n",
       "tradeYear              0\n",
       "tradeMonth             0\n",
       "tradeDay               0\n",
       "dtype: int64"
      ]
     },
     "execution_count": 23,
     "metadata": {},
     "output_type": "execute_result"
    }
   ],
   "source": [
    "raw_data.isnull().sum()"
   ]
  },
  {
   "cell_type": "markdown",
   "metadata": {},
   "source": [
    "We have 0 null on  any feature."
   ]
  },
  {
   "cell_type": "markdown",
   "metadata": {},
   "source": [
    "**Finally, we have a dataset that can be used for visualization purposes.**"
   ]
  },
  {
   "cell_type": "markdown",
   "metadata": {},
   "source": [
    "## Export Cleaned Data\n",
    "We finally export the cleaned data as a csv so it can be used again for any purpose."
   ]
  },
  {
   "cell_type": "code",
   "execution_count": 24,
   "metadata": {},
   "outputs": [],
   "source": [
    "raw_data.to_csv(\"../assets/cleaned.csv\")"
   ]
  },
  {
   "cell_type": "markdown",
   "metadata": {},
   "source": [
    "\n",
    "\n",
    "# Data Transformation"
   ]
  },
  {
   "cell_type": "markdown",
   "metadata": {
    "tags": []
   },
   "source": [
    "### Separating some data into atomic units.  \n",
    "Eg, tradeTime to tradeDay, tradeMonth, tradeYear"
   ]
  },
  {
   "cell_type": "code",
   "execution_count": 25,
   "metadata": {
    "tags": []
   },
   "outputs": [],
   "source": [
    "year_list, month_list, day_list = list(), list(), list()\n",
    "\n",
    "for string in raw_data[\"tradeTime\"]:\n",
    "    year_list.append(string[0:4])\n",
    "    month_list.append(string[5:7])\n",
    "    day_list.append(string[8:10])\n",
    "\n",
    "raw_data[\"tradeYear\"] = year_list\n",
    "raw_data[\"tradeMonth\"] = month_list\n",
    "raw_data[\"tradeDay\"] = day_list\n",
    "\n",
    "raw_data = raw_data.astype(\n",
    "    {\n",
    "        \"tradeYear\": \"int64\",\n",
    "        \"tradeMonth\": \"int64\",\n",
    "        \"tradeDay\": \"int64\",\n",
    "    }\n",
    ")\n"
   ]
  },
  {
   "cell_type": "markdown",
   "metadata": {
    "tags": []
   },
   "source": [
    "## Drop some values\n",
    "\n",
    "We have some rare values before a certain range of time, we drop them for better coherence.\n",
    "For example, we had only few data with tradeYear earlier than 2010, so they were dropped since they were not really relevant"
   ]
  },
  {
   "cell_type": "code",
   "execution_count": 26,
   "metadata": {},
   "outputs": [],
   "source": [
    "df = pd.read_csv(\"../assets/cleaned.csv\")\n",
    "df.drop(df[df[\"tradeYear\"] < 2010].index, inplace=True)"
   ]
  },
  {
   "cell_type": "markdown",
   "metadata": {},
   "source": [
    "\n",
    "## Replace numerical categorical data to meaningful data\n",
    "\n",
    "Some data values consists of numbers that describe some categorical data, we replace them with meaningful text that gives context.\n"
   ]
  },
  {
   "cell_type": "code",
   "execution_count": 27,
   "metadata": {},
   "outputs": [],
   "source": [
    "df[\"district\"] = df[\"district\"].replace(\n",
    "    {\n",
    "        1: \"Dongcheng\",\n",
    "        2: \"Fengtai\",\n",
    "        3: \"Tongzhou\",\n",
    "        4: \"Daxing\",\n",
    "        5: \"Fangshan\",\n",
    "        6: \"Changping\",\n",
    "        7: \"Chaoyang\",\n",
    "        8: \"Haidian\",\n",
    "        9: \"Shijingshan\",\n",
    "        10: \"Xicheng\",\n",
    "        11: \"Pinggu\",\n",
    "        12: \"Mentougou\",\n",
    "        13: \"Shunyi\",\n",
    "    }\n",
    ")\n",
    "df[\"buildingStructure\"] = df[\"buildingStructure\"].replace(\n",
    "    {\n",
    "        1: \"unknown\",\n",
    "        2: \"mixed\",\n",
    "        3: \"brick and wood\",\n",
    "        4: \"brick and concrete\",\n",
    "        5: \"steel\",\n",
    "        6: \"steel-concrete composite\",\n",
    "    }\n",
    ")\n",
    "df[\"buildingType\"] = df[\"buildingType\"].replace(\n",
    "    {\n",
    "        1: \"tower\",\n",
    "        2: \"bungalow\",\n",
    "        3: \"combination of plate and tower\",\n",
    "        4: \"plate\",\n",
    "    }\n",
    ")\n",
    "df[\"renovationCondition\"] = df[\"renovationCondition\"].replace(\n",
    "    {\n",
    "        1: \"other\",\n",
    "        2: \"rough\",\n",
    "        3: \"Simplicity\",\n",
    "        4: \"hardcover\",\n",
    "    }\n",
    ")\n",
    "df[\"elevator\"] = df[\"elevator\"].replace(\n",
    "    {\n",
    "        1: \"yes\",\n",
    "        0: \"no\",\n",
    "    }\n",
    ")\n",
    "df[\"subway\"] = df[\"subway\"].replace(\n",
    "    {\n",
    "        1: \"yes\",\n",
    "        0: \"no\",\n",
    "    }\n",
    ")\n",
    "df[\"fiveYearsProperty\"] = df[\"fiveYearsProperty\"].replace(\n",
    "    {\n",
    "        1: \"yes\",\n",
    "        0: \"no\",\n",
    "    }\n",
    ")"
   ]
  },
  {
   "cell_type": "code",
   "execution_count": 28,
   "metadata": {},
   "outputs": [
    {
     "data": {
      "text/html": [
       "<div>\n",
       "<style scoped>\n",
       "    .dataframe tbody tr th:only-of-type {\n",
       "        vertical-align: middle;\n",
       "    }\n",
       "\n",
       "    .dataframe tbody tr th {\n",
       "        vertical-align: top;\n",
       "    }\n",
       "\n",
       "    .dataframe thead th {\n",
       "        text-align: right;\n",
       "    }\n",
       "</style>\n",
       "<table border=\"1\" class=\"dataframe\">\n",
       "  <thead>\n",
       "    <tr style=\"text-align: right;\">\n",
       "      <th></th>\n",
       "      <th>Unnamed: 0</th>\n",
       "      <th>Lng</th>\n",
       "      <th>Lat</th>\n",
       "      <th>Cid</th>\n",
       "      <th>tradeTime</th>\n",
       "      <th>DOM</th>\n",
       "      <th>followers</th>\n",
       "      <th>totalPrice</th>\n",
       "      <th>price</th>\n",
       "      <th>square</th>\n",
       "      <th>...</th>\n",
       "      <th>buildingStructure</th>\n",
       "      <th>ladderRatio</th>\n",
       "      <th>elevator</th>\n",
       "      <th>fiveYearsProperty</th>\n",
       "      <th>subway</th>\n",
       "      <th>district</th>\n",
       "      <th>communityAverage</th>\n",
       "      <th>tradeYear</th>\n",
       "      <th>tradeMonth</th>\n",
       "      <th>tradeDay</th>\n",
       "    </tr>\n",
       "  </thead>\n",
       "  <tbody>\n",
       "    <tr>\n",
       "      <th>0</th>\n",
       "      <td>0</td>\n",
       "      <td>116.475489</td>\n",
       "      <td>40.019520</td>\n",
       "      <td>1111027376244</td>\n",
       "      <td>2016-08-09</td>\n",
       "      <td>1464.0</td>\n",
       "      <td>106</td>\n",
       "      <td>415.0</td>\n",
       "      <td>31680</td>\n",
       "      <td>131.00</td>\n",
       "      <td>...</td>\n",
       "      <td>steel-concrete composite</td>\n",
       "      <td>0.217</td>\n",
       "      <td>yes</td>\n",
       "      <td>no</td>\n",
       "      <td>yes</td>\n",
       "      <td>Chaoyang</td>\n",
       "      <td>56021.0</td>\n",
       "      <td>2016</td>\n",
       "      <td>8</td>\n",
       "      <td>9</td>\n",
       "    </tr>\n",
       "    <tr>\n",
       "      <th>1</th>\n",
       "      <td>1</td>\n",
       "      <td>116.453917</td>\n",
       "      <td>39.881534</td>\n",
       "      <td>1111027381879</td>\n",
       "      <td>2016-07-28</td>\n",
       "      <td>903.0</td>\n",
       "      <td>126</td>\n",
       "      <td>575.0</td>\n",
       "      <td>43436</td>\n",
       "      <td>132.38</td>\n",
       "      <td>...</td>\n",
       "      <td>steel-concrete composite</td>\n",
       "      <td>0.667</td>\n",
       "      <td>yes</td>\n",
       "      <td>yes</td>\n",
       "      <td>no</td>\n",
       "      <td>Chaoyang</td>\n",
       "      <td>71539.0</td>\n",
       "      <td>2016</td>\n",
       "      <td>7</td>\n",
       "      <td>28</td>\n",
       "    </tr>\n",
       "    <tr>\n",
       "      <th>2</th>\n",
       "      <td>2</td>\n",
       "      <td>116.561978</td>\n",
       "      <td>39.877145</td>\n",
       "      <td>1111040862969</td>\n",
       "      <td>2016-12-11</td>\n",
       "      <td>1271.0</td>\n",
       "      <td>48</td>\n",
       "      <td>1030.0</td>\n",
       "      <td>52021</td>\n",
       "      <td>198.00</td>\n",
       "      <td>...</td>\n",
       "      <td>steel-concrete composite</td>\n",
       "      <td>0.500</td>\n",
       "      <td>yes</td>\n",
       "      <td>no</td>\n",
       "      <td>no</td>\n",
       "      <td>Chaoyang</td>\n",
       "      <td>48160.0</td>\n",
       "      <td>2016</td>\n",
       "      <td>12</td>\n",
       "      <td>11</td>\n",
       "    </tr>\n",
       "    <tr>\n",
       "      <th>3</th>\n",
       "      <td>3</td>\n",
       "      <td>116.438010</td>\n",
       "      <td>40.076114</td>\n",
       "      <td>1111043185817</td>\n",
       "      <td>2016-09-30</td>\n",
       "      <td>965.0</td>\n",
       "      <td>138</td>\n",
       "      <td>297.5</td>\n",
       "      <td>22202</td>\n",
       "      <td>134.00</td>\n",
       "      <td>...</td>\n",
       "      <td>steel-concrete composite</td>\n",
       "      <td>0.273</td>\n",
       "      <td>yes</td>\n",
       "      <td>no</td>\n",
       "      <td>no</td>\n",
       "      <td>Changping</td>\n",
       "      <td>51238.0</td>\n",
       "      <td>2016</td>\n",
       "      <td>9</td>\n",
       "      <td>30</td>\n",
       "    </tr>\n",
       "    <tr>\n",
       "      <th>4</th>\n",
       "      <td>4</td>\n",
       "      <td>116.428392</td>\n",
       "      <td>39.886229</td>\n",
       "      <td>1111027381174</td>\n",
       "      <td>2016-08-28</td>\n",
       "      <td>927.0</td>\n",
       "      <td>286</td>\n",
       "      <td>392.0</td>\n",
       "      <td>48396</td>\n",
       "      <td>81.00</td>\n",
       "      <td>...</td>\n",
       "      <td>mixed</td>\n",
       "      <td>0.333</td>\n",
       "      <td>no</td>\n",
       "      <td>yes</td>\n",
       "      <td>yes</td>\n",
       "      <td>Dongcheng</td>\n",
       "      <td>62588.0</td>\n",
       "      <td>2016</td>\n",
       "      <td>8</td>\n",
       "      <td>28</td>\n",
       "    </tr>\n",
       "  </tbody>\n",
       "</table>\n",
       "<p>5 rows × 27 columns</p>\n",
       "</div>"
      ],
      "text/plain": [
       "   Unnamed: 0         Lng        Lat            Cid   tradeTime     DOM  \\\n",
       "0           0  116.475489  40.019520  1111027376244  2016-08-09  1464.0   \n",
       "1           1  116.453917  39.881534  1111027381879  2016-07-28   903.0   \n",
       "2           2  116.561978  39.877145  1111040862969  2016-12-11  1271.0   \n",
       "3           3  116.438010  40.076114  1111043185817  2016-09-30   965.0   \n",
       "4           4  116.428392  39.886229  1111027381174  2016-08-28   927.0   \n",
       "\n",
       "   followers  totalPrice  price  square  ...         buildingStructure  \\\n",
       "0        106       415.0  31680  131.00  ...  steel-concrete composite   \n",
       "1        126       575.0  43436  132.38  ...  steel-concrete composite   \n",
       "2         48      1030.0  52021  198.00  ...  steel-concrete composite   \n",
       "3        138       297.5  22202  134.00  ...  steel-concrete composite   \n",
       "4        286       392.0  48396   81.00  ...                     mixed   \n",
       "\n",
       "   ladderRatio  elevator  fiveYearsProperty subway   district  \\\n",
       "0        0.217       yes                 no    yes   Chaoyang   \n",
       "1        0.667       yes                yes     no   Chaoyang   \n",
       "2        0.500       yes                 no     no   Chaoyang   \n",
       "3        0.273       yes                 no     no  Changping   \n",
       "4        0.333        no                yes    yes  Dongcheng   \n",
       "\n",
       "  communityAverage tradeYear  tradeMonth tradeDay  \n",
       "0          56021.0      2016           8        9  \n",
       "1          71539.0      2016           7       28  \n",
       "2          48160.0      2016          12       11  \n",
       "3          51238.0      2016           9       30  \n",
       "4          62588.0      2016           8       28  \n",
       "\n",
       "[5 rows x 27 columns]"
      ]
     },
     "execution_count": 28,
     "metadata": {},
     "output_type": "execute_result"
    }
   ],
   "source": [
    "df.head()"
   ]
  },
  {
   "cell_type": "markdown",
   "metadata": {},
   "source": [
    "## Calculate Averages\n",
    "\n",
    "For some plots and figures, we calculate the average of totalPrice for better insightful visualization"
   ]
  },
  {
   "cell_type": "code",
   "execution_count": 29,
   "metadata": {},
   "outputs": [],
   "source": [
    "average_price_df = (\n",
    "   df.groupby([\"tradeYear\", \"tradeMonth\"])[\"totalPrice\"].mean().reset_index()\n",
    ")\n",
    "average_price_df[\"tradeTime\"] = [\n",
    "   f\"{x}-{y}\" for x, y in zip(average_price_df.tradeYear, average_price_df.tradeMonth)\n",
    "]\n",
    " \n",
    "avg_district = df.groupby([\"district\"])[\"totalPrice\"].mean()\n",
    "building_str = df.groupby([\"buildingStructure\"])[\"totalPrice\"].mean()"
   ]
  },
  {
   "cell_type": "markdown",
   "metadata": {},
   "source": [
    "# Scaling the data\n",
    "\n",
    "Since some of our data like totalPrice are downscaled, we scale them to original value."
   ]
  },
  {
   "cell_type": "code",
   "execution_count": 30,
   "metadata": {},
   "outputs": [],
   "source": [
    "df[\"totalPrice\"] = df[\"totalPrice\"].apply(lambda x: x * 10000)"
   ]
  },
  {
   "cell_type": "code",
   "execution_count": null,
   "metadata": {},
   "outputs": [],
   "source": []
  }
 ],
 "metadata": {
  "kernelspec": {
   "display_name": "Python 3 (ipykernel)",
   "language": "python",
   "name": "python3"
  },
  "language_info": {
   "codemirror_mode": {
    "name": "ipython",
    "version": 3
   },
   "file_extension": ".py",
   "mimetype": "text/x-python",
   "name": "python",
   "nbconvert_exporter": "python",
   "pygments_lexer": "ipython3",
   "version": "3.10.6"
  },
  "vscode": {
   "interpreter": {
    "hash": "deedd8fb8d8d3e4df36918e673dd42a50f78cd71345452176f246c4c691120c6"
   }
  }
 },
 "nbformat": 4,
 "nbformat_minor": 4
}
